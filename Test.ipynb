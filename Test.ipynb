{
 "cells": [
  {
   "cell_type": "markdown",
   "metadata": {
    "collapsed": true,
    "pycharm": {
     "name": "#%% md\n"
    }
   },
   "source": [
    "# Introdution à Python"
   ]
  },
  {
   "cell_type": "code",
   "source": [
    "print(\"Hello World\")"
   ],
   "metadata": {
    "collapsed": false,
    "pycharm": {
     "name": "#%%\n"
    }
   },
   "execution_count": null,
   "outputs": []
  },
  {
   "cell_type": "code",
   "source": [
    "z = 42.5 # définir une variable\n",
    "print(z) # afficher la variable\n",
    "print(int(z)) # afficher la variable sans décimale"
   ],
   "metadata": {
    "collapsed": false,
    "pycharm": {
     "name": "#%%\n"
    }
   },
   "execution_count": null,
   "outputs": []
  },
  {
   "cell_type": "code",
   "source": [
    "arr=[1,2,3,4,5]\n",
    "for i in arr:\n",
    "    print (i) # Imprimer la liste de façon verticale"
   ],
   "metadata": {
    "collapsed": false,
    "pycharm": {
     "name": "#%%\n"
    }
   },
   "execution_count": null,
   "outputs": []
  },
  {
   "cell_type": "code",
   "source": [
    "\n",
    "def textanalyzer (text):\n",
    "    count=0\n",
    "    for x in text.split(' '):\n",
    "        count+=1\n",
    "    return count\n",
    "textanalyzer('this is a perfect fifth')"
   ],
   "metadata": {
    "collapsed": false,
    "pycharm": {
     "name": "#%%\n"
    }
   },
   "execution_count": 3,
   "outputs": [
    {
     "data": {
      "text/plain": "5"
     },
     "execution_count": 3,
     "metadata": {},
     "output_type": "execute_result"
    }
   ]
  },
  {
   "cell_type": "code",
   "source": [
    "# Choisir les éléments d'une liste à afficher\n",
    "color_list=[\"Red\",\"Green\",\"White\",\"Black\"]\n",
    "res = [ color_list[0], color_list[3] ]\n",
    "print(res)"
   ],
   "metadata": {
    "collapsed": false,
    "pycharm": {
     "name": "#%%\n"
    }
   },
   "execution_count": 11,
   "outputs": [
    {
     "name": "stdout",
     "output_type": "stream",
     "text": [
      "['Red', 'Black']\n"
     ]
    }
   ]
  },
  {
   "cell_type": "markdown",
   "source": [
    "Il aurait été possible de spécifier color_list[-1] au lieu de color_list[3]"
   ],
   "metadata": {
    "collapsed": false
   }
  },
  {
   "cell_type": "code",
   "execution_count": 2,
   "outputs": [
    {
     "name": "stdout",
     "output_type": "stream",
     "text": [
      "Henriot Valentin\n"
     ]
    }
   ],
   "source": [
    "FirstName = input(\"What's your first name? \")\n",
    "LastName = input(\"What's your last name? \")\n",
    "print(LastName, FirstName)\n"
   ],
   "metadata": {
    "collapsed": false,
    "pycharm": {
     "name": "#%%\n"
    }
   }
  },
  {
   "cell_type": "markdown",
   "source": [
    "Créer des inputs pour remplissage manuel"
   ],
   "metadata": {
    "collapsed": false
   }
  },
  {
   "cell_type": "code",
   "execution_count": 7,
   "outputs": [
    {
     "name": "stdout",
     "output_type": "stream",
     "text": [
      "10.5\n"
     ]
    }
   ],
   "source": [
    "mark = input(\"What is your mark?\")\n",
    "try:\n",
    "    int(mark)\n",
    "except ValueError:\n",
    "    try:\n",
    "        float(mark)\n",
    "    except ValueError:\n",
    "        print(\"This is not a number\")\n",
    "\n",
    "if mark.replace('.','',1).isdigit() :\n",
    "    print(mark)"
   ],
   "metadata": {
    "collapsed": false,
    "pycharm": {
     "name": "#%%\n"
    }
   }
  },
  {
   "cell_type": "markdown",
   "source": [
    "Spécifier le type de données voulu en réponse (ici, il faut absolument que la valeur soit numérique).\n",
    "\n",
    "Concernant la partie mark.replace, nous devons spécifier que s'il s'agit d'une variable \"float\", le point doit être remplacé par la valeur 1 pour que Python le détecte comme un nombre."
   ],
   "metadata": {
    "collapsed": false
   }
  },
  {
   "cell_type": "code",
   "execution_count": 17,
   "outputs": [
    {
     "name": "stdout",
     "output_type": "stream",
     "text": [
      "1.19.2\n",
      "How many times red appears? 2\n"
     ]
    }
   ],
   "source": [
    "import numpy as np\n",
    "print(np.__version__)\n",
    "\n",
    "\n",
    "color_list2=np.array([\"Red\",\"Red\",\"Yellow\",\"Blue\"])\n",
    "print(\"How many times red appears?\", np.count_nonzero(color_list2==\"Red\", axis=0))"
   ],
   "metadata": {
    "collapsed": false,
    "pycharm": {
     "name": "#%%\n"
    }
   }
  },
  {
   "cell_type": "markdown",
   "source": [
    "Permet de compter le nombre d'occurences d'un mot ou d'une valeur dans une liste numpy."
   ],
   "metadata": {
    "collapsed": false
   }
  },
  {
   "cell_type": "code",
   "execution_count": 4,
   "outputs": [
    {
     "name": "stdout",
     "output_type": "stream",
     "text": [
      "x is available in the given list\n",
      "y is not available in the given list\n"
     ]
    }
   ],
   "source": [
    "x=4\n",
    "y=10\n",
    "list=[1,2,3,4,5]\n",
    "if x in list:\n",
    "    print('x is available in the given list')\n",
    "else:\n",
    "    print('x is not available in the given list')\n",
    "if y in list:\n",
    "    print('y is available in the given list')\n",
    "else:\n",
    "    print('y is not available in the given list')"
   ],
   "metadata": {
    "collapsed": false,
    "pycharm": {
     "name": "#%%\n"
    }
   }
  },
  {
   "cell_type": "markdown",
   "source": [
    "Nous définissons deux variables x et y, ensuite nous créons une liste et nous vérifions si les valeurs s'y trouvent."
   ],
   "metadata": {
    "collapsed": false
   }
  },
  {
   "cell_type": "code",
   "execution_count": 2,
   "outputs": [
    {
     "name": "stdout",
     "output_type": "stream",
     "text": [
      "x or y are not available in the given list\n"
     ]
    }
   ],
   "source": [
    "if x and y in list:\n",
    "    print('x and y are available in the given list')\n",
    "else:\n",
    "    print(\"x or y are not available in the given list\")"
   ],
   "metadata": {
    "collapsed": false,
    "pycharm": {
     "name": "#%%\n"
    }
   }
  },
  {
   "cell_type": "markdown",
   "source": [
    "Même chose mais en vérifiant ici les deux conditions simultanément."
   ],
   "metadata": {
    "collapsed": false
   }
  },
  {
   "cell_type": "code",
   "execution_count": 3,
   "outputs": [
    {
     "name": "stdout",
     "output_type": "stream",
     "text": [
      "x or y are available in the given list\n"
     ]
    }
   ],
   "source": [
    "if x or y in list:\n",
    "    print('x or y are available in the given list')\n",
    "else:\n",
    "    print(\"x and y are not available in the given list\")"
   ],
   "metadata": {
    "collapsed": false,
    "pycharm": {
     "name": "#%%\n"
    }
   }
  },
  {
   "cell_type": "markdown",
   "source": [
    "Même chose en vérifiant qu'au moins une des deux conditions est remplie."
   ],
   "metadata": {
    "collapsed": false
   }
  },
  {
   "cell_type": "code",
   "execution_count": 6,
   "outputs": [
    {
     "name": "stdout",
     "output_type": "stream",
     "text": [
      "Shipping Costs $5\n"
     ]
    }
   ],
   "source": [
    "total = 110\n",
    "#country = \"US\"\n",
    "country = \"AU\"\n",
    "if country == \"US\" and total <= 50:\n",
    "    print(\"Shipping Cost is  $50\")\n",
    "elif country == \"US\" and total <= 100:\n",
    "    print(\"Shipping Cost is $25\")\n",
    "elif country == \"US\" and total <= 150:\n",
    "\tprint(\"Shipping Costs $5\")\n",
    "elif country == \"US\" and total > 150:\n",
    "    print(\"Free\")\n",
    "else:\n",
    "    var = None\n",
    "\n",
    "if country == \"AU\" and total <= 50:\n",
    "    print(\"Shipping Cost is  $100\")\n",
    "elif country == \"AU\" and total <= 100:\n",
    "    print(\"Shipping Cost is $50\")\n",
    "elif country == \"AU\" and total > 100:\n",
    "\tprint(\"Shipping Costs $5\")\n",
    "else:\n",
    "    var = None"
   ],
   "metadata": {
    "collapsed": false,
    "pycharm": {
     "name": "#%%\n"
    }
   }
  },
  {
   "cell_type": "markdown",
   "source": [
    "Ce code permet d'afficher une valeur en fonction de deux variables, le prix et le pays."
   ],
   "metadata": {
    "collapsed": false
   }
  },
  {
   "cell_type": "code",
   "execution_count": 6,
   "outputs": [
    {
     "name": "stdout",
     "output_type": "stream",
     "text": [
      "You have choosen US and the price product is 1559.99\n",
      "Free\n"
     ]
    }
   ],
   "source": [
    "# Code pour définir le pays\n",
    "list_country = ['US', 'AU']\n",
    "country = input(\"Choose a country (US or AU only)\")\n",
    "while country not in ('US', 'AU'):\n",
    "    country = input(\"Please enter US or AU: \")\n",
    "    if country not in ('US', 'AU'):\n",
    "        break\n",
    "\n",
    "\n",
    "total = input(\"What is the price of the product?\")\n",
    "try:\n",
    "    int(total)\n",
    "except ValueError:\n",
    "    try:\n",
    "        float(total)\n",
    "    except ValueError:\n",
    "        total = input(\"You may enter a number!\")\n",
    "\n",
    "\n",
    "if country in list_country and total.replace('.',\"\",1).isdigit():\n",
    "    print(\"You have choosen\", country, \"and the price product is\", total)\n",
    "else:\n",
    "    print(\"You have not choosen a valid country or a number for the product's price\")\n",
    "\n",
    "\n",
    "total = float(total)\n",
    "if country == \"US\" and total <= 50:\n",
    "    print(\"Shipping Cost is  $50\")\n",
    "elif country == \"US\" and total <= 100:\n",
    "    print(\"Shipping Cost is $25\")\n",
    "elif country == \"US\" and total <= 150:\n",
    "\tprint(\"Shipping Costs is $5\")\n",
    "elif country == \"US\" and total > 150:\n",
    "    print(\"Free\")\n",
    "else:\n",
    "    var = None\n",
    "\n",
    "if country == \"AU\" and total <= 50:\n",
    "    print(\"Shipping Cost is  $100\")\n",
    "elif country == \"AU\" and total <= 100:\n",
    "    print(\"Shipping Cost is $50\")\n",
    "elif country == \"AU\" and total > 100:\n",
    "\tprint(\"Shipping Costs is $5\")\n",
    "else:\n",
    "    var = None"
   ],
   "metadata": {
    "collapsed": false,
    "pycharm": {
     "name": "#%%\n"
    }
   }
  },
  {
   "cell_type": "code",
   "execution_count": 4,
   "outputs": [
    {
     "data": {
      "text/plain": "   sepal length (cm)  sepal width (cm)  petal length (cm)  petal width (cm)\n0                5.1               3.5                1.4               0.2\n1                4.9               3.0                1.4               0.2\n2                4.7               3.2                1.3               0.2\n3                4.6               3.1                1.5               0.2\n4                5.0               3.6                1.4               0.2\n5                5.4               3.9                1.7               0.4\n6                4.6               3.4                1.4               0.3\n7                5.0               3.4                1.5               0.2\n8                4.4               2.9                1.4               0.2\n9                4.9               3.1                1.5               0.1",
      "text/html": "<div>\n<style scoped>\n    .dataframe tbody tr th:only-of-type {\n        vertical-align: middle;\n    }\n\n    .dataframe tbody tr th {\n        vertical-align: top;\n    }\n\n    .dataframe thead th {\n        text-align: right;\n    }\n</style>\n<table border=\"1\" class=\"dataframe\">\n  <thead>\n    <tr style=\"text-align: right;\">\n      <th></th>\n      <th>sepal length (cm)</th>\n      <th>sepal width (cm)</th>\n      <th>petal length (cm)</th>\n      <th>petal width (cm)</th>\n    </tr>\n  </thead>\n  <tbody>\n    <tr>\n      <th>0</th>\n      <td>5.1</td>\n      <td>3.5</td>\n      <td>1.4</td>\n      <td>0.2</td>\n    </tr>\n    <tr>\n      <th>1</th>\n      <td>4.9</td>\n      <td>3.0</td>\n      <td>1.4</td>\n      <td>0.2</td>\n    </tr>\n    <tr>\n      <th>2</th>\n      <td>4.7</td>\n      <td>3.2</td>\n      <td>1.3</td>\n      <td>0.2</td>\n    </tr>\n    <tr>\n      <th>3</th>\n      <td>4.6</td>\n      <td>3.1</td>\n      <td>1.5</td>\n      <td>0.2</td>\n    </tr>\n    <tr>\n      <th>4</th>\n      <td>5.0</td>\n      <td>3.6</td>\n      <td>1.4</td>\n      <td>0.2</td>\n    </tr>\n    <tr>\n      <th>5</th>\n      <td>5.4</td>\n      <td>3.9</td>\n      <td>1.7</td>\n      <td>0.4</td>\n    </tr>\n    <tr>\n      <th>6</th>\n      <td>4.6</td>\n      <td>3.4</td>\n      <td>1.4</td>\n      <td>0.3</td>\n    </tr>\n    <tr>\n      <th>7</th>\n      <td>5.0</td>\n      <td>3.4</td>\n      <td>1.5</td>\n      <td>0.2</td>\n    </tr>\n    <tr>\n      <th>8</th>\n      <td>4.4</td>\n      <td>2.9</td>\n      <td>1.4</td>\n      <td>0.2</td>\n    </tr>\n    <tr>\n      <th>9</th>\n      <td>4.9</td>\n      <td>3.1</td>\n      <td>1.5</td>\n      <td>0.1</td>\n    </tr>\n  </tbody>\n</table>\n</div>"
     },
     "execution_count": 4,
     "metadata": {},
     "output_type": "execute_result"
    }
   ],
   "source": [
    "from sklearn.datasets import load_iris\n",
    "import pandas as pd\n",
    "\n",
    "data = load_iris()\n",
    "df = pd.DataFrame(data.data, columns=data.feature_names)\n",
    "df.head(n=10)"
   ],
   "metadata": {
    "collapsed": false,
    "pycharm": {
     "name": "#%%\n"
    }
   }
  },
  {
   "cell_type": "markdown",
   "source": [
    "On importe le jeu de données depuis scikit-learn et ensuite nous le formatons au format pandas.\n",
    "La fonction head permet d'afficher les premières lignes du df. On peut spécifier le nombre de ligne via n = ."
   ],
   "metadata": {
    "collapsed": false
   }
  }
 ],
 "metadata": {
  "kernelspec": {
   "display_name": "Python 3",
   "language": "python",
   "name": "python3"
  },
  "language_info": {
   "codemirror_mode": {
    "name": "ipython",
    "version": 2
   },
   "file_extension": ".py",
   "mimetype": "text/x-python",
   "name": "python",
   "nbconvert_exporter": "python",
   "pygments_lexer": "ipython2",
   "version": "2.7.6"
  }
 },
 "nbformat": 4,
 "nbformat_minor": 0
}