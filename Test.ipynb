{
 "cells": [
  {
   "cell_type": "markdown",
   "metadata": {
    "collapsed": true,
    "pycharm": {
     "name": "#%% md\n"
    }
   },
   "source": [
    "# Introdution à Python"
   ]
  },
  {
   "cell_type": "code",
   "source": [
    "print(\"Hello World\")"
   ],
   "metadata": {
    "collapsed": false,
    "pycharm": {
     "name": "#%%\n"
    }
   },
   "execution_count": null,
   "outputs": []
  },
  {
   "cell_type": "code",
   "source": [
    "z = 42.5 # définir une variable\n",
    "print(z) # afficher la variable\n",
    "print(int(z)) # afficher la variable sans décimale"
   ],
   "metadata": {
    "collapsed": false,
    "pycharm": {
     "name": "#%%\n"
    }
   },
   "execution_count": null,
   "outputs": []
  },
  {
   "cell_type": "code",
   "source": [
    "arr=[1,2,3,4,5]\n",
    "for i in arr:\n",
    "    print (i) # Imprimer la liste de façon verticale"
   ],
   "metadata": {
    "collapsed": false,
    "pycharm": {
     "name": "#%%\n"
    }
   },
   "execution_count": null,
   "outputs": []
  },
  {
   "cell_type": "code",
   "source": [
    "\n",
    "def textanalyzer (text):\n",
    "    count=0\n",
    "    for x in text.split(' '):\n",
    "        count+=1\n",
    "    return count\n",
    "textanalyzer('this is a perfect fifth')"
   ],
   "metadata": {
    "collapsed": false,
    "pycharm": {
     "name": "#%%\n"
    }
   },
   "execution_count": null,
   "outputs": []
  },
  {
   "cell_type": "code",
   "source": [
    "# Choisir les éléments d'une liste à afficher\n",
    "color_list=[\"Red\",\"Green\",\"White\",\"Black\"]\n",
    "res = [ color_list[0], color_list[3] ]\n",
    "print(res)"
   ],
   "metadata": {
    "collapsed": false,
    "pycharm": {
     "name": "#%%\n"
    }
   },
   "execution_count": 11,
   "outputs": [
    {
     "name": "stdout",
     "output_type": "stream",
     "text": [
      "['Red', 'Black']\n"
     ]
    }
   ]
  },
  {
   "cell_type": "markdown",
   "source": [
    "Il aurait été possible de spécifier color_list[-1] au lieu de color_list[3]"
   ],
   "metadata": {
    "collapsed": false
   }
  },
  {
   "cell_type": "code",
   "execution_count": 2,
   "outputs": [
    {
     "name": "stdout",
     "output_type": "stream",
     "text": [
      "Henriot Valentin\n"
     ]
    }
   ],
   "source": [
    "FirstName = input(\"What's your first name? \")\n",
    "LastName = input(\"What's your last name? \")\n",
    "print(LastName, FirstName)\n"
   ],
   "metadata": {
    "collapsed": false,
    "pycharm": {
     "name": "#%%\n"
    }
   }
  },
  {
   "cell_type": "markdown",
   "source": [
    "Créer des inputs pour remplissage manuel"
   ],
   "metadata": {
    "collapsed": false
   }
  },
  {
   "cell_type": "code",
   "execution_count": 7,
   "outputs": [
    {
     "name": "stdout",
     "output_type": "stream",
     "text": [
      "10.5\n"
     ]
    }
   ],
   "source": [
    "mark = input(\"What is your mark?\")\n",
    "try:\n",
    "    int(mark)\n",
    "except ValueError:\n",
    "    try:\n",
    "        float(mark)\n",
    "    except ValueError:\n",
    "        print(\"This is not a number\")\n",
    "\n",
    "if mark.replace('.','',1).isdigit() :\n",
    "    print(mark)"
   ],
   "metadata": {
    "collapsed": false,
    "pycharm": {
     "name": "#%%\n"
    }
   }
  },
  {
   "cell_type": "markdown",
   "source": [
    "Spécifier le type de données voulu en réponse (ici, il faut absolument que la valeur soit numérique).\n",
    "\n",
    "Concernant la partie mark.replace, nous devons spécifier que s'il s'agit d'une variable \"float\", le point doit être remplacé par la valeur 1 pour que Python le détecte comme un nombre."
   ],
   "metadata": {
    "collapsed": false
   }
  },
  {
   "cell_type": "code",
   "execution_count": 17,
   "outputs": [
    {
     "name": "stdout",
     "output_type": "stream",
     "text": [
      "1.19.2\n",
      "How many times red appears? 2\n"
     ]
    }
   ],
   "source": [
    "import numpy as np\n",
    "print(np.__version__)\n",
    "\n",
    "\n",
    "color_list2=np.array([\"Red\",\"Red\",\"Yellow\",\"Blue\"])\n",
    "print(\"How many times red appears?\", np.count_nonzero(color_list2==\"Red\", axis=0))"
   ],
   "metadata": {
    "collapsed": false,
    "pycharm": {
     "name": "#%%\n"
    }
   }
  },
  {
   "cell_type": "markdown",
   "source": [
    "Permet de compter le nombre d'occurences d'un mot ou d'une valeur dans une liste numpy."
   ],
   "metadata": {
    "collapsed": false
   }
  }
 ],
 "metadata": {
  "kernelspec": {
   "display_name": "Python 3",
   "language": "python",
   "name": "python3"
  },
  "language_info": {
   "codemirror_mode": {
    "name": "ipython",
    "version": 2
   },
   "file_extension": ".py",
   "mimetype": "text/x-python",
   "name": "python",
   "nbconvert_exporter": "python",
   "pygments_lexer": "ipython2",
   "version": "2.7.6"
  }
 },
 "nbformat": 4,
 "nbformat_minor": 0
}